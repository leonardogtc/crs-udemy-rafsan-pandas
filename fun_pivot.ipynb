{
 "cells": [
  {
   "cell_type": "code",
   "execution_count": 2,
   "id": "b8830f30-939e-4fb9-bbd7-478d612d0140",
   "metadata": {},
   "outputs": [],
   "source": [
    "import pandas as pd\n",
    "import numpy as np"
   ]
  },
  {
   "cell_type": "code",
   "execution_count": 4,
   "id": "0c5f566e-631d-49d0-90d9-997f1e2a155f",
   "metadata": {},
   "outputs": [],
   "source": [
    "dias = pd.date_range(\"20230101\", periods=12)"
   ]
  },
  {
   "cell_type": "code",
   "execution_count": 5,
   "id": "366b0c28-1b44-41c0-aa34-bed37d236c38",
   "metadata": {},
   "outputs": [
    {
     "data": {
      "text/plain": [
       "DatetimeIndex(['2023-01-01', '2023-01-02', '2023-01-03', '2023-01-04',\n",
       "               '2023-01-05', '2023-01-06', '2023-01-07', '2023-01-08',\n",
       "               '2023-01-09', '2023-01-10', '2023-01-11', '2023-01-12'],\n",
       "              dtype='datetime64[ns]', freq='D')"
      ]
     },
     "execution_count": 5,
     "metadata": {},
     "output_type": "execute_result"
    }
   ],
   "source": [
    "dias"
   ]
  },
  {
   "cell_type": "code",
   "execution_count": 8,
   "id": "8ce07cf3-3596-43a5-aaf3-6578c4cf4e86",
   "metadata": {},
   "outputs": [],
   "source": [
    "pessoas = ['George','Victor','Lucas']"
   ]
  },
  {
   "cell_type": "code",
   "execution_count": 9,
   "id": "1c0a2fd9-6158-493e-85a8-5aee1a26dff2",
   "metadata": {},
   "outputs": [
    {
     "data": {
      "text/plain": [
       "['George', 'Victor', 'Lucas']"
      ]
     },
     "execution_count": 9,
     "metadata": {},
     "output_type": "execute_result"
    }
   ],
   "source": [
    "pessoas"
   ]
  },
  {
   "cell_type": "code",
   "execution_count": 10,
   "id": "7e5e7c50-e6ef-4461-ac80-81017e563089",
   "metadata": {},
   "outputs": [
    {
     "data": {
      "text/plain": [
       "'Victor'"
      ]
     },
     "execution_count": 10,
     "metadata": {},
     "output_type": "execute_result"
    }
   ],
   "source": [
    "np.random.choice(pessoas)"
   ]
  },
  {
   "cell_type": "code",
   "execution_count": null,
   "id": "04161ddf-6a60-40e4-b80a-6343fa3d7948",
   "metadata": {},
   "outputs": [],
   "source": []
  }
 ],
 "metadata": {
  "kernelspec": {
   "display_name": "Python 3 (ipykernel)",
   "language": "python",
   "name": "python3"
  },
  "language_info": {
   "codemirror_mode": {
    "name": "ipython",
    "version": 3
   },
   "file_extension": ".py",
   "mimetype": "text/x-python",
   "name": "python",
   "nbconvert_exporter": "python",
   "pygments_lexer": "ipython3",
   "version": "3.10.9"
  },
  "varInspector": {
   "cols": {
    "lenName": 16,
    "lenType": 16,
    "lenVar": 40
   },
   "kernels_config": {
    "python": {
     "delete_cmd_postfix": "",
     "delete_cmd_prefix": "del ",
     "library": "var_list.py",
     "varRefreshCmd": "print(var_dic_list())"
    },
    "r": {
     "delete_cmd_postfix": ") ",
     "delete_cmd_prefix": "rm(",
     "library": "var_list.r",
     "varRefreshCmd": "cat(var_dic_list()) "
    }
   },
   "types_to_exclude": [
    "module",
    "function",
    "builtin_function_or_method",
    "instance",
    "_Feature"
   ],
   "window_display": false
  }
 },
 "nbformat": 4,
 "nbformat_minor": 5
}
