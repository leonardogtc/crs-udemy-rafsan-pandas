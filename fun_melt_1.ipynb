{
 "cells": [
  {
   "cell_type": "code",
   "execution_count": 2,
   "id": "b6e9bba4",
   "metadata": {},
   "outputs": [],
   "source": [
    "# Importação da biblioteca Pandas\n",
    "import pandas as pd"
   ]
  },
  {
   "cell_type": "code",
   "execution_count": 8,
   "id": "1abe0838",
   "metadata": {
    "collapsed": true
   },
   "outputs": [
    {
     "name": "stdout",
     "output_type": "stream",
     "text": [
      "{'localizacao': ['CidadeA', 'CidadeB'], 'temperatura': ['Prevista', 'Atual'], 'set-2023': [30, 32], 'out-2023': [45, 43], 'nov-2023': [24, 22]}\n"
     ]
    }
   ],
   "source": [
    "# Dados carregado no dicionário\n",
    "data = {\n",
    "    \"localizacao\":['CidadeA','CidadeB'],\n",
    "    \"temperatura\":[\"Prevista\",\"Atual\"],\n",
    "    \"set-2023\":[30,32],\n",
    "    \"out-2023\":[45,43],\n",
    "    \"nov-2023\":[24,22]\n",
    "}\n",
    "print(data)"
   ]
  },
  {
   "cell_type": "code",
   "execution_count": 9,
   "id": "a4a7df35",
   "metadata": {},
   "outputs": [],
   "source": [
    "# converter o dicionário em data frame\n",
    "df = pd.DataFrame(data, columns=['localizacao','temperatura','set-2023','out-2023','nov-2023'])"
   ]
  },
  {
   "cell_type": "code",
   "execution_count": 11,
   "id": "8d6171cf",
   "metadata": {},
   "outputs": [
    {
     "data": {
      "text/html": [
       "<div>\n",
       "<style scoped>\n",
       "    .dataframe tbody tr th:only-of-type {\n",
       "        vertical-align: middle;\n",
       "    }\n",
       "\n",
       "    .dataframe tbody tr th {\n",
       "        vertical-align: top;\n",
       "    }\n",
       "\n",
       "    .dataframe thead th {\n",
       "        text-align: right;\n",
       "    }\n",
       "</style>\n",
       "<table border=\"1\" class=\"dataframe\">\n",
       "  <thead>\n",
       "    <tr style=\"text-align: right;\">\n",
       "      <th></th>\n",
       "      <th>localizacao</th>\n",
       "      <th>temperatura</th>\n",
       "      <th>set-2023</th>\n",
       "      <th>out-2023</th>\n",
       "      <th>nov-2023</th>\n",
       "    </tr>\n",
       "  </thead>\n",
       "  <tbody>\n",
       "    <tr>\n",
       "      <th>0</th>\n",
       "      <td>CidadeA</td>\n",
       "      <td>Prevista</td>\n",
       "      <td>30</td>\n",
       "      <td>45</td>\n",
       "      <td>24</td>\n",
       "    </tr>\n",
       "    <tr>\n",
       "      <th>1</th>\n",
       "      <td>CidadeB</td>\n",
       "      <td>Atual</td>\n",
       "      <td>32</td>\n",
       "      <td>43</td>\n",
       "      <td>22</td>\n",
       "    </tr>\n",
       "  </tbody>\n",
       "</table>\n",
       "</div>"
      ],
      "text/plain": [
       "  localizacao temperatura  set-2023  out-2023  nov-2023\n",
       "0     CidadeA    Prevista        30        45        24\n",
       "1     CidadeB       Atual        32        43        22"
      ]
     },
     "execution_count": 11,
     "metadata": {},
     "output_type": "execute_result"
    }
   ],
   "source": [
    "df"
   ]
  },
  {
   "cell_type": "code",
   "execution_count": 12,
   "id": "673b4c31",
   "metadata": {},
   "outputs": [],
   "source": [
    "# Representando com melt\n",
    "df2 = pd.melt(df, id_vars=['localizacao','temperatura'], var_name=\"Data\", value_name=\"Valor\")"
   ]
  },
  {
   "cell_type": "code",
   "execution_count": 14,
   "id": "0a94a5c3",
   "metadata": {},
   "outputs": [
    {
     "name": "stdout",
     "output_type": "stream",
     "text": [
      "  localizacao temperatura      Data  Valor\n",
      "0     CidadeA    Prevista  set-2023     30\n",
      "1     CidadeB       Atual  set-2023     32\n",
      "2     CidadeA    Prevista  out-2023     45\n",
      "3     CidadeB       Atual  out-2023     43\n",
      "4     CidadeA    Prevista  nov-2023     24\n",
      "5     CidadeB       Atual  nov-2023     22\n"
     ]
    }
   ],
   "source": [
    "print(df2)"
   ]
  },
  {
   "cell_type": "code",
   "execution_count": null,
   "id": "6e451374",
   "metadata": {},
   "outputs": [],
   "source": []
  }
 ],
 "metadata": {
  "kernelspec": {
   "display_name": "Python 3 (ipykernel)",
   "language": "python",
   "name": "python3"
  },
  "language_info": {
   "codemirror_mode": {
    "name": "ipython",
    "version": 3
   },
   "file_extension": ".py",
   "mimetype": "text/x-python",
   "name": "python",
   "nbconvert_exporter": "python",
   "pygments_lexer": "ipython3",
   "version": "3.10.9"
  },
  "varInspector": {
   "cols": {
    "lenName": 16,
    "lenType": 16,
    "lenVar": 40
   },
   "kernels_config": {
    "python": {
     "delete_cmd_postfix": "",
     "delete_cmd_prefix": "del ",
     "library": "var_list.py",
     "varRefreshCmd": "print(var_dic_list())"
    },
    "r": {
     "delete_cmd_postfix": ") ",
     "delete_cmd_prefix": "rm(",
     "library": "var_list.r",
     "varRefreshCmd": "cat(var_dic_list()) "
    }
   },
   "types_to_exclude": [
    "module",
    "function",
    "builtin_function_or_method",
    "instance",
    "_Feature"
   ],
   "window_display": false
  }
 },
 "nbformat": 4,
 "nbformat_minor": 5
}
